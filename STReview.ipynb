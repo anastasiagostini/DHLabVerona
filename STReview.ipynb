{
  "nbformat": 4,
  "nbformat_minor": 0,
  "metadata": {
    "colab": {
      "name": "imdbpy.ipynb",
      "provenance": [],
      "include_colab_link": true
    },
    "kernelspec": {
      "name": "python3",
      "display_name": "Python 3"
    }
  },
  "cells": [
    {
      "cell_type": "markdown",
      "metadata": {
        "id": "view-in-github",
        "colab_type": "text"
      },
      "source": [
        "<a href=\"https://colab.research.google.com/github/anastasiagostini/DHLabVerona/blob/main/STReview.ipynb\" target=\"_parent\"><img src=\"https://colab.research.google.com/assets/colab-badge.svg\" alt=\"Open In Colab\"/></a>"
      ]
    },
    {
      "cell_type": "code",
      "metadata": {
        "id": "E47rZYff5Hfq",
        "colab": {
          "base_uri": "https://localhost:8080/"
        },
        "outputId": "aef27843-2795-4a65-d153-10abcb2f2a05"
      },
      "source": [
        "pip install imdbpy"
      ],
      "execution_count": 26,
      "outputs": [
        {
          "output_type": "stream",
          "name": "stdout",
          "text": [
            "Requirement already satisfied: imdbpy in /usr/local/lib/python3.7/dist-packages (2021.4.18)\n",
            "Requirement already satisfied: SQLAlchemy in /usr/local/lib/python3.7/dist-packages (from imdbpy) (1.4.36)\n",
            "Requirement already satisfied: lxml in /usr/local/lib/python3.7/dist-packages (from imdbpy) (4.2.6)\n",
            "Requirement already satisfied: importlib-metadata in /usr/local/lib/python3.7/dist-packages (from SQLAlchemy->imdbpy) (4.11.3)\n",
            "Requirement already satisfied: greenlet!=0.4.17 in /usr/local/lib/python3.7/dist-packages (from SQLAlchemy->imdbpy) (1.1.2)\n",
            "Requirement already satisfied: typing-extensions>=3.6.4 in /usr/local/lib/python3.7/dist-packages (from importlib-metadata->SQLAlchemy->imdbpy) (4.2.0)\n",
            "Requirement already satisfied: zipp>=0.5 in /usr/local/lib/python3.7/dist-packages (from importlib-metadata->SQLAlchemy->imdbpy) (3.8.0)\n"
          ]
        }
      ]
    },
    {
      "cell_type": "code",
      "metadata": {
        "id": "4ai0p-r0Lncd"
      },
      "source": [
        "from imdb import IMDb\n",
        "ia = IMDb()"
      ],
      "execution_count": 27,
      "outputs": []
    },
    {
      "cell_type": "code",
      "metadata": {
        "id": "HH-aUh7HL3xt",
        "colab": {
          "base_uri": "https://localhost:8080/"
        },
        "outputId": "a833e1be-0a62-4581-b632-04c9e57e59ea"
      },
      "source": [
        "StrangerThings = ia.get_movie('4574334')\n",
        "StrangerThings.current_info"
      ],
      "execution_count": 28,
      "outputs": [
        {
          "output_type": "execute_result",
          "data": {
            "text/plain": [
              "['main', 'plot', 'synopsis']"
            ]
          },
          "metadata": {},
          "execution_count": 28
        }
      ]
    },
    {
      "cell_type": "code",
      "metadata": {
        "id": "93tJcGSujyUn",
        "colab": {
          "base_uri": "https://localhost:8080/"
        },
        "outputId": "f5cbd2f2-cdba-4f52-eecb-4491a2ae5fd1"
      },
      "source": [
        "ia.update(StrangerThings,['reviews'])\n",
        "StrangerThings.current_info"
      ],
      "execution_count": 29,
      "outputs": [
        {
          "output_type": "execute_result",
          "data": {
            "text/plain": [
              "['main', 'plot', 'synopsis', 'reviews']"
            ]
          },
          "metadata": {},
          "execution_count": 29
        }
      ]
    },
    {
      "cell_type": "code",
      "metadata": {
        "id": "9rMKVLxrxzWY",
        "colab": {
          "base_uri": "https://localhost:8080/"
        },
        "outputId": "d48930c5-5307-41de-cc21-80d687a48822"
      },
      "source": [
        "StrangerThings['reviews']"
      ],
      "execution_count": 30,
      "outputs": [
        {
          "output_type": "execute_result",
          "data": {
            "text/plain": [
              "[{'author': 'ur2467618',\n",
              "  'content': '\"Stranger Things\" is a very big surprise. After all, it\\'s a made for Netflix series, so it\\'s going to be cheap and suck...right?! Well, no...fortunately. Despite having mostly no-name actors and a modest budget, this show turned out to be a hit and one that promises to bring us more episodes. At the time I am writing this, the eighth episode has been aired and the series appears over...or so you think until the very end.So what is this show? Well, in many ways it\\'s like some Steven King novels (particularly \"Firestarter\"), the 1980s and \"Gravity Falls\" all mashed up into one really strange but fascinating show.The show begins with a child being lost into another dimension and his mother is naturally out of her mind with worry. But soon this sense of panic is felt by many in this small community. In the midst of this, a young girl, who is simply named \\'11\\' arrives in the town and is hidden by some middle school boys. They know she\\'s being hunted...but what does she have to do with the disappearance as well as folks seeing monsters?! Well, watch this paranoid show and you\\'ll see.So why was the show so effective and why are so many folks eagerly awaiting more episodes? Well, the writing is terrific and the direction really keeps you on the edge of your seats. The acting is also surprisingly good and overall the package is well worth seeing and will impress you. Far better than network television.',\n",
              "  'date': '23 November 2016',\n",
              "  'helpful': 0,\n",
              "  'not_helpful': 0,\n",
              "  'rating': 1,\n",
              "  'title': ''},\n",
              " {'author': 'ur6387867',\n",
              "  'content': \"Stranger Things absolutely lives up to all the hype! This worldwide phenomenon has been one of the most talked about shows since it came out and for good reason...it's terrific! Not all but most of the negative reviews are coming from either bots from competing streaming services, that rate everything that Netflix does bad, or from people who go out of their way to rate all the shows people like negatively. Some people just don't like it, which is fine, but there are people who are just miserable and like to troll. 99% of their reviews are negative. Who goes out of there way to comment on something they don't like? Personally, I only review shows I like. Obviously, season 1 was the best but the others are not far off. All are absolutely worth watching and I can't wait for the new season!\",\n",
              "  'date': '15 June 2021',\n",
              "  'helpful': 0,\n",
              "  'not_helpful': 0,\n",
              "  'rating': None,\n",
              "  'title': ''},\n",
              " {'author': 'ur15794099',\n",
              "  'content': 'There were two dominating forces in the eighties that had a lasting effect on my cinematic taste for ever after and also resulted in my undying love for fantasy, sci-fi and horror stories: Steven Spielberg and Stephen King. I guess it isn\\'t an overstatement to say \"The Two Steves\" probably influenced and shaped the imagination - the dreams AND the nightmares - of an entire generation.The main factor why I loved their movies and books was that kids roughly my own age figured so prominently in many of them. King wrote \\'Firestarter\\', \\'It\\' and \\'Stand By Me\\', and Spielberg either directed or produced (via his company Amblin) \\'E.T.\\', \\'The Goonies\\' and \\'Gremlins\\'. Those were stories where the young protagonists encountered aliens and monsters or where they themselves had supernatural powers - or where they just went on an adventure (to find a body or a long lost treasure) with grown-ups largely out of the picture. Now if you\\'ve seen \\'Stranger Things\\', that should sound pretty familiar, right?Of course it does: because \\'Stranger Things\\' deliberately pays homage to all those stories - and it does it very, very well. And it\\'s not a rip-off, it\\'s a love letter. The show emulates the themes and a certain style from those eighties treasures, and while it is a (for me) very welcome callback to some of the favorite stories from my youth, it\\'s also very much its own thing. I won\\'t give away the plot here (I guess you get a pretty good picture what it\\'s about from what I wrote above), but I would like to mention that it\\'s beautifully shot, the effects and generally the production values are top-notch, and the period-inspired music is fantastic. The biggest shout-out, however, has to go to the ensemble of actors, especially the kids who play the protagonists: their charming performances are the key to why the show works as well as it does.To sum it all up: If you\\'re an eighties kid like me, this show is a must. For everyone else, it might depend a bit more on whether you\\'re a genre fan or not, but if you do like supernatural stories, \\'Stranger Things\\' is a treat. I\\'d rate it eight stars out of ten, but with an extra star for nostalgia, that\\'s a 9.Favorite TV-Shows reviewed: imdb.com/list/ls075552387/Favorite films: IMDb.com/list/mkjOKvqlSBs/Lesser-Known Masterpieces: imdb.com/list/ls070242495/Favorite Low-Budget and B-Movies: imdb.com/list/ls054808375/',\n",
              "  'date': '23 January 2018',\n",
              "  'helpful': 0,\n",
              "  'not_helpful': 0,\n",
              "  'rating': None,\n",
              "  'title': ''},\n",
              " {'author': 'ur2860723',\n",
              "  'content': \"(Review updated after Season 3).Hawkins, Indiana, 1983. A young boy, Will Byers, goes missing near a top secret government laboratory. On the same night, a strange young girl appears at a diner in the town. She has telekinetic powers and is on the run from the laboratory. The laboratory is researching supernatural phenomena and may have unwittingly unlocked a gateway to another dimension.Superb series. I am generally not into science fiction, fantasy, supernatural or horror movies or TV series but this is different. Had me hooked from the start and never let go. Incredibly intriguing - the mystery surrounding Will, the girl's background and powers, how all these hang together and what forces are at work. Very well thought-out plot, superbly executed.Very engaging too - many likeable characters, all given decent depth. The relationships between all the main characters and how these evolve make the series. If it wasn't for these it would be just another horror series.Many of the concepts aren't overly new - I was reminded of The Cabin In The Woods, Stand By Me and Cloverfield - but the way everything is brought together is.Good performances. David Harbour is excellent as Sherriff Hopper and the kids do incredibly well - good casting. Winona Ryder, the only big name in the cast (until Sean Astin and Paul Reiser appear in Season 2) is a bit irritating as Joyce Byers, though that might be the fault of her character (and thus the writers and directors). The hysteria is laid on a bit thick...After an excellent Season 1, Seasons 2 and 3 are just as good. There's always a worry with any TV series that the writers run out of ideas but don't stop production, as the money is too good. So far it is still going strong, and the writers appear keen for it to end on a high.Great TV.\",\n",
              "  'date': '7 April 2018',\n",
              "  'helpful': 0,\n",
              "  'not_helpful': 0,\n",
              "  'rating': 1,\n",
              "  'title': ''},\n",
              " {'author': 'ur0011762',\n",
              "  'content': \"There is no reason, in terms of story, for Stranger Things to take place in the '80s. But the '80s atmosphere - the dial phones, the chain smoking, Winona Ryder - are there to clue you in on the inspiration for this movie, which is pretty much every supernatural movie from the 80s with a focus on kids. E.T., Poltergeist, that sort of thing.The wondrous thing is how dead-on this tribute. It's not just the clothes and hair, but the style of acting, the scripting approach, the structure, all hold true to their inspiration. You've got the young nerdy kids, the horny, unsure teenagers, the monster, the mysterious one with the power, the bad science/government people, the conflicted investigator, the tearful mom.You could argue that this entire season is simply a pastiche made up of recycled elements, and I wouldn't disagree, but it really feels less like a copy and more like something of that era, as though the writers had fallen into a coma in 1985, woke up and got to working.While it doesn't have the high style of the Spielberg films that are a primary influence, it does have the likability. The story is consistently engaging and fun, the acting is excellent, and the movie has sufficient laughs and tears to satisfy.\",\n",
              "  'date': '22 July 2016',\n",
              "  'helpful': 0,\n",
              "  'not_helpful': 0,\n",
              "  'rating': None,\n",
              "  'title': ''},\n",
              " {'author': 'ur18970655',\n",
              "  'content': 'I was not interested in seeing this but my daughter made me sit with her cos she wanted explanation about each n every thing associated with the 80s.And to be honest, after completing the first 3 seasons, i can definitely vouch that fellas who were kids in the 80s will enjoy this.Some amazing homages : Stand By Me, Firestarter, The Blob, Back To The Future, NeverEnding Story, The Thing, The Goonies, E. T., Ghostbusters, Close Encounters of the Third Kind, Gremlins, IT, Risky Business, Star Wars Episode V, The Evil Dead, Day of the Dead, Fast Times at Ridgemont High, The Woody Woodpecker Show, Halloween 2, They Live (alleyway fight), Invasion of the Body Snatchers, The Terminator, Scanners, Aliens, Karate Kid, Jaws, The Predator, Poltergeist, Indiana Jones, The Mist, Cujo, etc.But the best homages were the arcade games n the vhs store.',\n",
              "  'date': '12 March 2022',\n",
              "  'helpful': 0,\n",
              "  'not_helpful': 0,\n",
              "  'rating': None,\n",
              "  'title': ''},\n",
              " {'author': 'ur22966909',\n",
              "  'content': \"Stranger Things is the newest foray into Netflix's original programming, of which brings us their most impressive- and strange- production to date. When a young boy named Will Byers goes missing, his friends, mother and the town are thrust into a conspiracy involving a mysterious girl named Eleven and something even more sinister hiding in the woods of Hawkins, Indiana.From the get-go, you can tell this is an homage to classic '80s Spielberg, drawing on E.T. and Close Encounters, as well as JJ Abrams' Super 8. But, as the show progresses, it becomes more and more like a twisted Stephen King story set in a Spielberg movie. It becomes a dark and twisted ride into an even darker and more disturbing world where the stakes feel higher than anything before it.I can't go into great detail because spoiling even just a bit of the story takes away from the greater mystery, but I can say, it's one of the most thrilling and intense series to be on TV, without being on TV. If it were to continue, they have to pull the same punches they did with the first season, because they took a great many clichés, and somehow made them fresh and surprising, save for just a couple that they purposefully left cliché.\",\n",
              "  'date': '15 July 2016',\n",
              "  'helpful': 0,\n",
              "  'not_helpful': 0,\n",
              "  'rating': 1,\n",
              "  'title': ''},\n",
              " {'author': 'ur58525162',\n",
              "  'content': \"Netflix did it again with Stranger Things. It's a very pleasant and easy to follow series to watch. It's like a time warp back to the eighties. A mixture of The Goonies meets The X-Files meets Close Encounters Of A Third Kind. I watched the whole first season in just a couple days. You immediately get hooked on this show. I don't know if the makers will add another season to it and if they do I'm already very curious what it will be about. Will it be a complete other story or will it just continue where the first season ended? It doesn't matter to me, I just want more seasons like this one. The cast is very good. All the actors fit perfectly well in the story. There is enough suspense to keep you interesting all the time. Watch this one, you won't regret it.\",\n",
              "  'date': '4 August 2016',\n",
              "  'helpful': 0,\n",
              "  'not_helpful': 0,\n",
              "  'rating': None,\n",
              "  'title': ''},\n",
              " {'author': 'ur104923834',\n",
              "  'content': \"My Favorite TV series so far, this series it's so good I can't wait for the next season, season 4, I hope that eleven not lose her power, the CGI,cinematography I love it, this series it so recommend to watch with your friends, please I can't even describe it beacuse this series is too good like they're chemistry.\",\n",
              "  'date': '1 August 2021',\n",
              "  'helpful': 0,\n",
              "  'not_helpful': 0,\n",
              "  'rating': 1,\n",
              "  'title': ''},\n",
              " {'author': 'ur48829349',\n",
              "  'content': \"Stranger Things is a 1980s inspired and themed science fiction horror Netflix show. The show is set in November 1983 and takes place in the fictional town of Hawkins. Hawkins residence live a fairly normal life until a boy named Will Byers goes missing in the woods. Three of Wills friends Mike Wheeler (played by Finn Wolfhard), Lucas Sinclair (played by Caleb McLaughin) and Dustin Henderson (played by Gaten Matarazzo) are very worried for him but what they uncover something more dark and sinister. After looking for their missing friend they come across a girl, who they call Eleven because of her tattoo. However they soon find out this isn't any ordinary girl but one with very special powers. It is very clear the show takes lot of inspiration from classics 80's films like The Goonies and ET. The performances from all of the cast are great especially the child actors, who show the right amount of charisma and banter you expect from kids growing up in the 80's. However, the star of the show here is definitely Eleven (played by Millie Bobby Brown) who plays the ET type of role in show. Millie's brilliant acting skills have a lasting effect on the viewer even though she has 42 words throughout the whole series. The Duffer Brothers brilliant writing and directing skills play with your emotions to create a love letter to all those 80's horror films. It's truly something special! 9/10\",\n",
              "  'date': '22 April 2017',\n",
              "  'helpful': 0,\n",
              "  'not_helpful': 0,\n",
              "  'rating': None,\n",
              "  'title': ''},\n",
              " {'author': 'ur104763420',\n",
              "  'content': \"That tv show have a very good 80's vibes, some relationship that can get us entertained because some of them are funny and some mysteries all along the seasons. Love the change each season. Very well made monsters. Dont know what to say else. Its worth w tching for sure.\",\n",
              "  'date': '18 August 2021',\n",
              "  'helpful': 0,\n",
              "  'not_helpful': 0,\n",
              "  'rating': None,\n",
              "  'title': ''},\n",
              " {'author': 'ur0076091',\n",
              "  'content': 'I guess plenty of people have said a lot of things about all the movie and TV references this series has and how it recreates the eighties in all their faults and splendor. I will not add to that.With the release of the second season I\\'d simply like to advise that both seasons are very different animals. Think of it as the difference between the original Alien movie and the Aliens sequel: Whereas the first season was more about an unknown and unseen horror and the mystery behind the backstory, the second has more in-your-face action and horror laced with character development arcs which feel nice but sometimes sidetrack the series a bit.Consequently, a fan of the show should probably watch the second season as a separate work of fiction rather than a true continuation of the first season in tone and spirit. The writers move the story forward and we get a very good piece of entertainment but the new season has to be judged on its own merits.EDIT: Season 3 turned out to be a huge change in tone for the series. Maybe it\\'s really hard keeping up the mystery if much of the \"world\" of Stranger Things already yielded many of its secrets but the overall \"feel\" of the series went into a different direction. Maybe the writers simply ran out of 80\\' templates to rip off. Season 1 was very much inspired by supernatural horror as in \"Poltergeist\". Season 2 took many cues from \"Creature Features\" like \"Gremlins\" or \"Aliens\". Season 3 now uses elements of 80\\' zombie flicks and low budget gore horror with a little bit of spy comedy mixed in (and fight scenes which feel straight out of \"Die Hard\"). All those genres didn\\'t really mix well in the 80\\' and this strange cocktail sure doesn\\'t work today. That doesn\\'t mean that Season 3 is bad. It simply relies on characters who were established in previous seasons which used very different 80\\' story elements and tropes. It\\'s almost like seeing Darth Vader in an Indiana Jones movie. Both work on their own but not together.Basically, Season 3 is an all too transparent attempt to plough a fresh nostalgia field but it doesn\\'t work in the context of previous seasons.',\n",
              "  'date': '27 October 2017',\n",
              "  'helpful': 0,\n",
              "  'not_helpful': 0,\n",
              "  'rating': None,\n",
              "  'title': ''},\n",
              " {'author': 'ur130873864',\n",
              "  'content': 'This show is very enjoyable and I can\\'t wait for season 4. Season 1 starts of the show at a 10/10 absolutely perfect with great characters hooking me and many others from the start. Season 2 is almost as good at a 8/10 but this season has the worst episode in the show, it is just painful. Season 3 again is great at a 9/10 I think I enjoy it a bit more than most people, but this season is the most \"This show is in the 80s\" thing about the show but still great.',\n",
              "  'date': '26 August 2021',\n",
              "  'helpful': 0,\n",
              "  'not_helpful': 0,\n",
              "  'rating': None,\n",
              "  'title': ''},\n",
              " {'author': 'ur91541632',\n",
              "  'content': 'Season 1 is a declaration of love to the 80ties ans films like critters, gremlins, goonies and some others. They picked up the in hindsight trashy charm of those in a perfect way. Season 2 was still good, but i guess tv-series routine kicked in and with season 3 it became somewhat generic. It takes half the season episodes to pick up speed, the subplots are too equally big and too disjointed from each other, yet fail to generate the necessary tension, because when you have more then one storyline you have to let the viewer know more about the antagonist side or you get lost. Often out of proportion aimless bantering are not helpful either to develop the story, they are just annoying. Some scenes are superfluous. Basically you are watching half the season without really knowing what you are watching exactly. Failing to articulate the plot they fail the suspension. Hopefully they will do a better job on the final season.',\n",
              "  'date': '16 July 2019',\n",
              "  'helpful': 0,\n",
              "  'not_helpful': 0,\n",
              "  'rating': None,\n",
              "  'title': ''},\n",
              " {'author': 'ur125359283',\n",
              "  'content': \"The 8 episodes of the First season flew by unnoticed in the extraordinary film atmosphere. The creators managed to shoot a unique work, in which the motives of famous books and films of previous years are guessed. The sci-fi character sets the main tone for the entire tape, but high-quality directing does not give even a second to get bored. An exciting plot, a cool game of actors, diversity and retrospectives, coupled with fascinating music, immerse the viewer in a world that you do not want to part with. This is a film that is interesting to reflect on, discuss with friends and even draw parallels with your own realities. Each episode is a new batch of intrigues and impressions, secrets and solutions, almost always unpredictable. The ending of the first season leaves a lot of questions... To the delight of everyone who has managed to fall in love with Stranger Things, the release of season 4 is expected soon, which has been postponed many times due to the pandemic! In the meantime, there is time to reflect on what he saw, and maybe watch the series again in the company of interesting people. I think this film will also appeal to modern teenagers, for whom the entourage of the 80s with its games, customs and traditions will appear in a new light. Everyone in this film will be able to find a favorite hero, according to their ideals and preferences. In particular, I would like to note the highly professional game of Finn Wolfard, who played Michael. His character is an example of a kind, truly bright boy who knows the value of friendship. To be honest, throughout the season I often caught myself thinking an annoying thought - why wasn't I like this as a child? There was also a place for tears, which it was sometimes impossible to restrain (although I am not so sentimental). The film is really addictive, as if you are experiencing events, joy and pain together with the characters. A movie for a wide audience with meaning and a great plot!And who has become your favorite hero for you? And if you haven't watched the first season yet, then don't hesitate and call your friends!\",\n",
              "  'date': '5 July 2021',\n",
              "  'helpful': 0,\n",
              "  'not_helpful': 0,\n",
              "  'rating': None,\n",
              "  'title': ''},\n",
              " {'author': 'ur15311310',\n",
              "  'content': \"I am one of those people that was put of by the thought that this was a kid's drama, from the advertising you'd swear this was aimed at a 4 o'clock after school transmission time, the reality is far from that. It's quite intense drama, thoroughly absorbing, the kind of show you can't help but binge watch. As someone that grew up in the Eighties, I can appreciate the detail that's gone into the production, it's like they slipped back and filmed it live, it is incredibly well made. I utterly love the music, it is so fitting, takes me back to wonderful eighties shows. Quality in both season one and two, I like the build up and tension that is abundant in the first. It's like the Goonies meets The Quatermass Experiment.\",\n",
              "  'date': '9 January 2018',\n",
              "  'helpful': 0,\n",
              "  'not_helpful': 0,\n",
              "  'rating': None,\n",
              "  'title': ''},\n",
              " {'author': 'ur124577434',\n",
              "  'content': \"This show is really, really good.It's the perfect show to watch in the summer. It gives you that, vibe...you know?It's just so entertaining and ends on panic attack giving cliffhangers.\",\n",
              "  'date': '13 June 2021',\n",
              "  'helpful': 0,\n",
              "  'not_helpful': 0,\n",
              "  'rating': None,\n",
              "  'title': ''},\n",
              " {'author': 'ur29082236',\n",
              "  'content': \"It can hook you immediately, everything seems fitting , the setting , the acting , the direction. Just as it should be. Bringing out the perfect blend of 1980s nostalgia. It gives mixture of taste of big 80's movies.You immediately get hooked with the story , which is amazing because it takes time for me to get invested in a story. I have been a fan of David Harbour Since the Newsroom , and he is just amazing. You're scared , Intrigued , you're completely invested. With perfect setting.I am really looking forward to where this goes from here on in.\",\n",
              "  'date': '15 July 2016',\n",
              "  'helpful': 0,\n",
              "  'not_helpful': 0,\n",
              "  'rating': 1,\n",
              "  'title': ''},\n",
              " {'author': 'ur7886239',\n",
              "  'content': \"Ah, Stranger Things. How is it so damn good? There are so many ways in which this show could've gone wrong, but somehow it just keeps on delivering. It's a gigantic homage to the cultural mileu of the 80's, made with a huge amount of genuine affection for the period and everything that came with it, but others have tried and failed when the love just wasn't enough. Think John Carter, for example. I happen to quite like it, but it's certainly flawed, despite the fanboy enthusiasm of its director. The amusingly named Duffer Brothers have tapped effortlessly into the zeitgeist of what it meant to be a teenager in the 80's. The music, the clothes, the entertainment, and more pop culture references woven into the fabric of the plot than you can shake a stick at. It could (perhaps ought) to have fallen flat on its face, but I find it impossible to fault.The cast are great, from young to adult. I don't know where Winona Ryder has been, but her performance in this as a distraught mother driven to the edge of sanity reminds me what we've been missing from her for too long. Millie Bobby Brown has used her role in ST to propel herself to pretty much global stardom at a very young age. She is so good, she could probably carry the show on her own if she had to.Some people might say the plot is massively derivative of so many films and perhaps a few TV shows from the period, and of course it is - that's the whole point. It wouldn't be much of an homage to the 80's if it wasn't. It's the carefully considered blending of those elements into a vaguely cohesive whole which is critical to its success. So really I suppose what they have done is transport us back to a certain kind of American 80's, with specific antennae for the things that interested them, and if you're not on board I suppose you might not really recognize it as your 80's at all. But hey, it's certainly familiar to me, despite the fact I'm not American, and I like it A LOT!Oh, and by the way, it does not lose the plot and become all 'woke' and whatever after season 1. What a load of ordure. If you're invested in the characters, rather than just skimming along the surface with the basic storyline, I fail to see why you would lose interest along the way.\",\n",
              "  'date': '10 May 2021',\n",
              "  'helpful': 0,\n",
              "  'not_helpful': 0,\n",
              "  'rating': None,\n",
              "  'title': ''},\n",
              " {'author': 'ur19691524',\n",
              "  'content': \"I'll leave my score at 8/10 in homage to seasons 1 and 2. Season 3 left me with very mixed emotions, most of them negative. I wont go into the issues as many others here have listed them well. For me, just as you saw a glimmer of hope that the storyline was emerging from the wreck, it crashed again with spurious awkward out of place dialogue, irritating characters and messages. Stereotypical bad guys and most of the questions raised left unanswered. By the end I just felt sad and annoyed.\",\n",
              "  'date': '13 July 2019',\n",
              "  'helpful': 0,\n",
              "  'not_helpful': 0,\n",
              "  'rating': None,\n",
              "  'title': ''},\n",
              " {'author': 'ur106614616',\n",
              "  'content': \"If you want horror, humour, heart breaking, heroes & heroines, happening edge of your seat action, hope & hysteria. This is the show for you. This is not my generation show & I don't know why Netflix keep putting Shows like Ozark for Grammy awards. We have to move on. The kids are smart & hilarious.\",\n",
              "  'date': '7 December 2020',\n",
              "  'helpful': 0,\n",
              "  'not_helpful': 0,\n",
              "  'rating': None,\n",
              "  'title': ''},\n",
              " {'author': 'ur82002563',\n",
              "  'content': 'Good Series. Everybody acted very well in the movie. The series was so interesting and thrilling from the beginning. The series bored and lagged at the middle of the series. After some episodes, the series was so interesting and thrilling. Good Series.',\n",
              "  'date': '22 August 2020',\n",
              "  'helpful': 0,\n",
              "  'not_helpful': 0,\n",
              "  'rating': None,\n",
              "  'title': ''},\n",
              " {'author': 'ur34836174',\n",
              "  'content': \"In my opinion Stranger Things gets better as it goes on! Lots of homages, amazing story, cinematography, thought provoking, and fun to watch. Not everyone loves as much as me which is unfortunate and ok too. I think it's really unfortunate that Stranger Things hasn't really Emmys or golden globes I think it highly deserves them. I'm a bit late to seeing season 3 but damn it's spectacular even if I'm the only one and the HDR quality for my 4K TV is vibrant awesomeness with nice colors.\",\n",
              "  'date': '30 January 2020',\n",
              "  'helpful': 0,\n",
              "  'not_helpful': 0,\n",
              "  'rating': 1,\n",
              "  'title': ''},\n",
              " {'author': 'ur102674547',\n",
              "  'content': \"My thoughts on Stranger Things have become more mixed over the years. I think season 1 is incredible. It offers some a great cinematic lens while giving compelling characters. Season 2 is really good but lacks the charm of the previous season. Season 3 is pretty mediocre imo. Feels like a parody of 80's nostalgia.\",\n",
              "  'date': '14 March 2021',\n",
              "  'helpful': 0,\n",
              "  'not_helpful': 0,\n",
              "  'rating': None,\n",
              "  'title': ''},\n",
              " {'author': 'ur4107851',\n",
              "  'content': \"S1= secret agencies, mysterious experiments, physic powers,the dark subject matter of the abuse of these subjects to exploit such powers, and the thrilling escape from these nefarious machinations.S2= we get to explore the other world, foreboding air of danger throughout, development and growth of the gang. Similar tone as the 1st season and closes it well.S1+S2 fits and works together.S3=budget feels halved, core group split up for nearly the whole season, big CGI monster that looks at home in Resident Evil 2 or The Evil Within 2 video game, contrived setups , poor consistency , cheap guard costumes and lazy jokes.Even worse thing is that they somehow made the characters flat one-note archetypes, with romances shoehorned in. It's quite sad for what S3 has turned out to be.Guess it could be summed up as if it was made cause fans wants a new season (naturally since S1 and S2 was good) , and the producers and creators decide to chase the money that comes with that. Rather then working at it until they have something interesting to show, they just went with a hackjob of various 80s cliches.And of course in analyzing why the drop in quality is so dramatic, we also need need to look at the pressure the suits must be pressing on the showmakers. Imagine an even greater fall in Netflix stocks if S3 was not made in time .....\",\n",
              "  'date': '19 July 2019',\n",
              "  'helpful': 0,\n",
              "  'not_helpful': 0,\n",
              "  'rating': None,\n",
              "  'title': ''}]"
            ]
          },
          "metadata": {},
          "execution_count": 30
        }
      ]
    },
    {
      "cell_type": "code",
      "metadata": {
        "id": "johGK9cax-Hf",
        "colab": {
          "base_uri": "https://localhost:8080/"
        },
        "outputId": "355c76ad-7172-4654-d78a-582d6eb25293"
      },
      "source": [
        "StrangerThings = ia.get_movie('4574334')\n",
        "StrangerThings.current_info"
      ],
      "execution_count": 12,
      "outputs": [
        {
          "output_type": "execute_result",
          "data": {
            "text/plain": [
              "['main', 'plot', 'synopsis']"
            ]
          },
          "metadata": {},
          "execution_count": 12
        }
      ]
    },
    {
      "cell_type": "code",
      "metadata": {
        "id": "50SvgGBayAHw",
        "colab": {
          "base_uri": "https://localhost:8080/"
        },
        "outputId": "d411d2f6-56f5-4861-b6e3-9aae10f9b75e"
      },
      "source": [
        "ia.update(theMatrix,['reviews'])\n",
        "StrangerThings.current_info"
      ],
      "execution_count": 13,
      "outputs": [
        {
          "output_type": "execute_result",
          "data": {
            "text/plain": [
              "['main', 'plot', 'synopsis']"
            ]
          },
          "metadata": {},
          "execution_count": 13
        }
      ]
    },
    {
      "cell_type": "code",
      "metadata": {
        "id": "foflF--kM-H0",
        "outputId": "c4d43b8d-bdba-427b-d25d-f832446651be",
        "colab": {
          "base_uri": "https://localhost:8080/"
        }
      },
      "source": [
        "sorted(ia.get_movie_infoset())"
      ],
      "execution_count": 14,
      "outputs": [
        {
          "output_type": "execute_result",
          "data": {
            "text/plain": [
              "['airing',\n",
              " 'akas',\n",
              " 'alternate versions',\n",
              " 'awards',\n",
              " 'connections',\n",
              " 'crazy credits',\n",
              " 'critic reviews',\n",
              " 'episodes',\n",
              " 'external reviews',\n",
              " 'external sites',\n",
              " 'faqs',\n",
              " 'full credits',\n",
              " 'goofs',\n",
              " 'keywords',\n",
              " 'list',\n",
              " 'locations',\n",
              " 'main',\n",
              " 'misc sites',\n",
              " 'news',\n",
              " 'official sites',\n",
              " 'parents guide',\n",
              " 'photo sites',\n",
              " 'plot',\n",
              " 'quotes',\n",
              " 'recommendations',\n",
              " 'release dates',\n",
              " 'release info',\n",
              " 'reviews',\n",
              " 'sound clips',\n",
              " 'soundtrack',\n",
              " 'synopsis',\n",
              " 'taglines',\n",
              " 'technical',\n",
              " 'trivia',\n",
              " 'tv schedule',\n",
              " 'video clips',\n",
              " 'vote details']"
            ]
          },
          "metadata": {},
          "execution_count": 14
        }
      ]
    },
    {
      "cell_type": "code",
      "metadata": {
        "id": "DqGIENKelPzu"
      },
      "source": [
        "[review for review in StrangerThings['reviews'] if review['rating']==None]"
      ],
      "execution_count": null,
      "outputs": []
    }
  ]
}